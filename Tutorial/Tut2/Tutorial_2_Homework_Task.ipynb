{
 "cells": [
  {
   "cell_type": "markdown",
   "id": "68258e05",
   "metadata": {
    "slideshow": {
     "slide_type": "slide"
    }
   },
   "source": [
    "# Tutorial 1 Homework Task (1.5 Marks)\n",
    "\n",
    "This task is based on Flights data  which comes a part of nycflights13 library. Read about data from the following sources:\n",
    "\n",
    "https://pypi.org/project/nycflights13/\n",
    "\n",
    "https://github.com/tidyverse/nycflights13\n",
    "\n",
    "### <span style=\"color:red\">IMPORTANT:</span> You need to study and understand your data very carefully before answering the questions.\n",
    "\n",
    "### Data Acquisition"
   ]
  },
  {
   "cell_type": "code",
   "execution_count": 1,
   "id": "f110fda7",
   "metadata": {},
   "outputs": [
    {
     "name": "stdout",
     "output_type": "stream",
     "text": [
      "Requirement already satisfied: nycflights13 in c:\\users\\huong\\miniconda3\\lib\\site-packages (0.0.3)\n",
      "Requirement already satisfied: pandas>=0.24.0 in c:\\users\\huong\\miniconda3\\lib\\site-packages (from nycflights13) (1.3.5)\n",
      "Requirement already satisfied: numpy>=1.17.3 in c:\\users\\huong\\miniconda3\\lib\\site-packages (from pandas>=0.24.0->nycflights13) (1.21.5)\n",
      "Requirement already satisfied: python-dateutil>=2.7.3 in c:\\users\\huong\\miniconda3\\lib\\site-packages (from pandas>=0.24.0->nycflights13) (2.8.2)\n",
      "Requirement already satisfied: pytz>=2017.3 in c:\\users\\huong\\miniconda3\\lib\\site-packages (from pandas>=0.24.0->nycflights13) (2022.1)\n",
      "Requirement already satisfied: six>=1.5 in c:\\users\\huong\\miniconda3\\lib\\site-packages (from python-dateutil>=2.7.3->pandas>=0.24.0->nycflights13) (1.16.0)\n"
     ]
    }
   ],
   "source": [
    "!pip install nycflights13\n"
   ]
  },
  {
   "cell_type": "code",
   "execution_count": 2,
   "id": "355cf982",
   "metadata": {
    "scrolled": true
   },
   "outputs": [
    {
     "name": "stdout",
     "output_type": "stream",
     "text": [
      "   year  month  day  dep_time  sched_dep_time  dep_delay  hour  minute\n",
      "0  2013      1    1     517.0             515        2.0     5      15\n",
      "1  2013      1    1     533.0             529        4.0     5      29\n",
      "<class 'pandas.core.frame.DataFrame'>\n",
      "RangeIndex: 336776 entries, 0 to 336775\n",
      "Data columns (total 8 columns):\n",
      " #   Column          Non-Null Count   Dtype  \n",
      "---  ------          --------------   -----  \n",
      " 0   year            336776 non-null  int64  \n",
      " 1   month           336776 non-null  int64  \n",
      " 2   day             336776 non-null  int64  \n",
      " 3   dep_time        328521 non-null  float64\n",
      " 4   sched_dep_time  336776 non-null  int64  \n",
      " 5   dep_delay       328521 non-null  float64\n",
      " 6   hour            336776 non-null  int64  \n",
      " 7   minute          336776 non-null  int64  \n",
      "dtypes: float64(2), int64(6)\n",
      "memory usage: 20.6 MB\n"
     ]
    },
    {
     "data": {
      "text/html": [
       "<div>\n",
       "<style scoped>\n",
       "    .dataframe tbody tr th:only-of-type {\n",
       "        vertical-align: middle;\n",
       "    }\n",
       "\n",
       "    .dataframe tbody tr th {\n",
       "        vertical-align: top;\n",
       "    }\n",
       "\n",
       "    .dataframe thead th {\n",
       "        text-align: right;\n",
       "    }\n",
       "</style>\n",
       "<table border=\"1\" class=\"dataframe\">\n",
       "  <thead>\n",
       "    <tr style=\"text-align: right;\">\n",
       "      <th></th>\n",
       "      <th>year</th>\n",
       "      <th>month</th>\n",
       "      <th>day</th>\n",
       "      <th>dep_time</th>\n",
       "      <th>sched_dep_time</th>\n",
       "      <th>dep_delay</th>\n",
       "      <th>hour</th>\n",
       "      <th>minute</th>\n",
       "    </tr>\n",
       "  </thead>\n",
       "  <tbody>\n",
       "    <tr>\n",
       "      <th>count</th>\n",
       "      <td>336776.0</td>\n",
       "      <td>336776.000000</td>\n",
       "      <td>336776.000000</td>\n",
       "      <td>328521.000000</td>\n",
       "      <td>336776.000000</td>\n",
       "      <td>328521.000000</td>\n",
       "      <td>336776.000000</td>\n",
       "      <td>336776.000000</td>\n",
       "    </tr>\n",
       "    <tr>\n",
       "      <th>mean</th>\n",
       "      <td>2013.0</td>\n",
       "      <td>6.548510</td>\n",
       "      <td>15.710787</td>\n",
       "      <td>1349.109947</td>\n",
       "      <td>1344.254840</td>\n",
       "      <td>12.639070</td>\n",
       "      <td>13.180247</td>\n",
       "      <td>26.230100</td>\n",
       "    </tr>\n",
       "    <tr>\n",
       "      <th>std</th>\n",
       "      <td>0.0</td>\n",
       "      <td>3.414457</td>\n",
       "      <td>8.768607</td>\n",
       "      <td>488.281791</td>\n",
       "      <td>467.335756</td>\n",
       "      <td>40.210061</td>\n",
       "      <td>4.661316</td>\n",
       "      <td>19.300846</td>\n",
       "    </tr>\n",
       "    <tr>\n",
       "      <th>min</th>\n",
       "      <td>2013.0</td>\n",
       "      <td>1.000000</td>\n",
       "      <td>1.000000</td>\n",
       "      <td>1.000000</td>\n",
       "      <td>106.000000</td>\n",
       "      <td>-43.000000</td>\n",
       "      <td>1.000000</td>\n",
       "      <td>0.000000</td>\n",
       "    </tr>\n",
       "    <tr>\n",
       "      <th>25%</th>\n",
       "      <td>2013.0</td>\n",
       "      <td>4.000000</td>\n",
       "      <td>8.000000</td>\n",
       "      <td>907.000000</td>\n",
       "      <td>906.000000</td>\n",
       "      <td>-5.000000</td>\n",
       "      <td>9.000000</td>\n",
       "      <td>8.000000</td>\n",
       "    </tr>\n",
       "    <tr>\n",
       "      <th>50%</th>\n",
       "      <td>2013.0</td>\n",
       "      <td>7.000000</td>\n",
       "      <td>16.000000</td>\n",
       "      <td>1401.000000</td>\n",
       "      <td>1359.000000</td>\n",
       "      <td>-2.000000</td>\n",
       "      <td>13.000000</td>\n",
       "      <td>29.000000</td>\n",
       "    </tr>\n",
       "    <tr>\n",
       "      <th>75%</th>\n",
       "      <td>2013.0</td>\n",
       "      <td>10.000000</td>\n",
       "      <td>23.000000</td>\n",
       "      <td>1744.000000</td>\n",
       "      <td>1729.000000</td>\n",
       "      <td>11.000000</td>\n",
       "      <td>17.000000</td>\n",
       "      <td>44.000000</td>\n",
       "    </tr>\n",
       "    <tr>\n",
       "      <th>max</th>\n",
       "      <td>2013.0</td>\n",
       "      <td>12.000000</td>\n",
       "      <td>31.000000</td>\n",
       "      <td>2400.000000</td>\n",
       "      <td>2359.000000</td>\n",
       "      <td>1301.000000</td>\n",
       "      <td>23.000000</td>\n",
       "      <td>59.000000</td>\n",
       "    </tr>\n",
       "  </tbody>\n",
       "</table>\n",
       "</div>"
      ],
      "text/plain": [
       "           year          month            day       dep_time  sched_dep_time  \\\n",
       "count  336776.0  336776.000000  336776.000000  328521.000000   336776.000000   \n",
       "mean     2013.0       6.548510      15.710787    1349.109947     1344.254840   \n",
       "std         0.0       3.414457       8.768607     488.281791      467.335756   \n",
       "min      2013.0       1.000000       1.000000       1.000000      106.000000   \n",
       "25%      2013.0       4.000000       8.000000     907.000000      906.000000   \n",
       "50%      2013.0       7.000000      16.000000    1401.000000     1359.000000   \n",
       "75%      2013.0      10.000000      23.000000    1744.000000     1729.000000   \n",
       "max      2013.0      12.000000      31.000000    2400.000000     2359.000000   \n",
       "\n",
       "           dep_delay           hour         minute  \n",
       "count  328521.000000  336776.000000  336776.000000  \n",
       "mean       12.639070      13.180247      26.230100  \n",
       "std        40.210061       4.661316      19.300846  \n",
       "min       -43.000000       1.000000       0.000000  \n",
       "25%        -5.000000       9.000000       8.000000  \n",
       "50%        -2.000000      13.000000      29.000000  \n",
       "75%        11.000000      17.000000      44.000000  \n",
       "max      1301.000000      23.000000      59.000000  "
      ]
     },
     "execution_count": 2,
     "metadata": {},
     "output_type": "execute_result"
    }
   ],
   "source": [
    "from nycflights13 import flights\n",
    "from nycflights13 import weather\n",
    "from nycflights13 import airports\n",
    "from nycflights13 import planes\n",
    "from nycflights13 import airlines\n",
    "import pandas as pd\n",
    "#printing first two rows from flights data\n",
    "#print(flights.head(2))\n",
    "#getting only required fields/columns from flights in your dataframe\n",
    "\n",
    "flight_data=flights[['year', 'month', 'day', 'dep_time', 'sched_dep_time', 'dep_delay', 'hour', 'minute']].copy()\n",
    "#print('flight data')\n",
    "print(flight_data.head(2))\n",
    "flight_data.info()\n",
    "flight_data.describe()"
   ]
  },
  {
   "cell_type": "markdown",
   "id": "4d3370d3",
   "metadata": {},
   "source": [
    "### <span style=\"color:red\">Tutorial Exercise</span>\n",
    "\n",
    "\n",
    "In this excercise, you need to do following:\n",
    "\n",
    "a) Using a bar graph, find out which month has the maximum number of actual delayed flights.\n",
    "\n",
    "\n",
    "b) It can be noticed from the data, there is no schedule departure date column in the data. The date information is distributed in multiple columns such as year, month, day, hour and minute. This limits ability to analyse this data as time series. Write python code to create a column called schedule_dep_date using to_datetime() function. Write also a python code to plot a line graph to see how departure delay time of actual delayed flight varies over time. \n",
    "Note: You may read more about to_datetime() function in Pandas from here: https://pandas.pydata.org/docs/reference/api/pandas.to_datetime.html\n",
    "\n",
    "Before you can plot line graph, you need to remove duplicates for date column. Read about removing duplicates from here.\n",
    "https://pandas.pydata.org/docs/reference/api/pandas.DataFrame.drop_duplicates.html\n",
    "\n",
    "\n",
    "\n",
    "\n",
    "\n",
    "###### <span style=\"color:red\">Submission: </span> Mylo Assignment Box (Tutorial Task)\n",
    "###### <span style=\"color:red\">Submission Deadline: </span> within 5 Days of your Tutorial"
   ]
  },
  {
   "cell_type": "markdown",
   "id": "bac71e1d",
   "metadata": {},
   "source": [
    "#### Answer to (a)"
   ]
  },
  {
   "cell_type": "code",
   "execution_count": 3,
   "id": "361a8edc",
   "metadata": {},
   "outputs": [],
   "source": [
    "import numpy as np\n",
    "import matplotlib as mpl\n",
    "import matplotlib.pyplot as plt\n",
    "\n",
    "mpl.style.use(['ggplot'])"
   ]
  },
  {
   "cell_type": "code",
   "execution_count": 4,
   "id": "a4fe53ac",
   "metadata": {},
   "outputs": [
    {
     "name": "stdout",
     "output_type": "stream",
     "text": [
      "[120139   7162    976    105     16      8     19      4      2      1]\n",
      "[1.000e+00 1.310e+02 2.610e+02 3.910e+02 5.210e+02 6.510e+02 7.810e+02\n",
      " 9.110e+02 1.041e+03 1.171e+03 1.301e+03]\n"
     ]
    },
    {
     "data": {
      "image/png": "[encoded data removed]",
      "text/plain": [
       "<Figure size 432x288 with 1 Axes>"
      ]
     },
     "metadata": {
      "needs_background": "light"
     },
     "output_type": "display_data"
    }
   ],
   "source": [
    "# step 1 - data preparation on dep_delay column\n",
    "# remove flight with no actual delayed flight from dep_delay column which are:\n",
    "# - dep_delay NaN indicates that the flight is not departured that day (dep_time is also NaN in this case)\n",
    "# - dep_delay <=0 indicates that the flight is not delayed\n",
    "# => the final 'dep_delay > 0' is the value for delayed flight we'll look into\n",
    "df_delay=flight_data[flight_data['dep_delay']>0].copy()\n",
    "\n",
    "# step 2 - use a bar chart to show which month has highest delayed flights\n",
    "count, bin_edges = np.histogram(df_delay['dep_delay'])\n",
    "print(count)\n",
    "print(bin_edges)\n",
    "df_delay['month'].value_counts().plot(kind='bar')\n",
    "plt.title('Delayed Flights In Each Month')\n",
    "plt.xlabel('Months')\n",
    "plt.ylabel('Delays')\n",
    "plt.show()"
   ]
  },
  {
   "cell_type": "markdown",
   "id": "ad6157e0",
   "metadata": {},
   "source": [
    "#### Answer to (b)"
   ]
  },
  {
   "cell_type": "code",
   "execution_count": 5,
   "id": "e2e3351d",
   "metadata": {},
   "outputs": [
    {
     "data": {
      "image/png": "[encoded data removed]",
      "text/plain": [
       "<Figure size 432x288 with 1 Axes>"
      ]
     },
     "metadata": {
      "needs_background": "light"
     },
     "output_type": "display_data"
    }
   ],
   "source": [
    "# step 1 - create a schedule_dep_date column which combines year, month, date, hour and minute columns\n",
    "\n",
    "df_delay['year']=df_delay['year'].astype(str)\n",
    "df_delay['month']=df_delay['month'].astype(str)\n",
    "df_delay['day']=df_delay['day'].astype(str)\n",
    "df_delay['hour']=df_delay['hour'].astype(str)\n",
    "df_delay['minute']=df_delay['minute'].astype(str)\n",
    "\n",
    "df_new=df_delay.assign(schedule_dep_date=lambda x: x.year+'-'+x.month+'-'+x.day+' '+x.hour+':'+x.minute)\n",
    "# parse to datetime\n",
    "df_new['schedule_dep_date']=pd.to_datetime(df_new['schedule_dep_date'])\n",
    "\n",
    "# drop duplicate schedule_dep_date values\n",
    "df_new.drop_duplicates(subset=['schedule_dep_date'])\n",
    "\n",
    "#step 2 - start plotting\n",
    "plt.plot(df_new['schedule_dep_date'], df_new['dep_delay'], 'red', label='Departure Delay')\n",
    "plt.xlabel('Scheduled Departure Date')\n",
    "plt.legend()\n",
    "plt.show()\n"
   ]
  },
  {
   "cell_type": "code",
   "execution_count": null,
   "id": "3f65840c",
   "metadata": {},
   "outputs": [],
   "source": [
    "\n"
   ]
  },
  {
   "cell_type": "code",
   "execution_count": null,
   "id": "82c069cb",
   "metadata": {},
   "outputs": [],
   "source": []
  }
 ],
 "metadata": {
  "kernelspec": {
   "display_name": "Python 3 (ipykernel)",
   "language": "python",
   "name": "python3"
  },
  "language_info": {
   "codemirror_mode": {
    "name": "ipython",
    "version": 3
   },
   "file_extension": ".py",
   "mimetype": "text/x-python",
   "name": "python",
   "nbconvert_exporter": "python",
   "pygments_lexer": "ipython3",
   "version": "3.7.13"
  }
 },
 "nbformat": 4,
 "nbformat_minor": 5
}
